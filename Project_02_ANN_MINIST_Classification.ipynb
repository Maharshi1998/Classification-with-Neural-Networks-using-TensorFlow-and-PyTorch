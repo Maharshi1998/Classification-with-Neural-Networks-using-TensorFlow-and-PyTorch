{
 "cells": [
  {
   "cell_type": "code",
   "execution_count": 4,
   "metadata": {
    "executionInfo": {
     "elapsed": 150,
     "status": "ok",
     "timestamp": 1691552810525,
     "user": {
      "displayName": "zeeshan ahmad",
      "userId": "09790783261567949831"
     },
     "user_tz": 240
    },
    "id": "YeuAheYyhdZw"
   },
   "outputs": [],
   "source": [
    "import torch\n",
    "import torch.nn as nn\n",
    "import torch.nn.functional as F\n",
    "import numpy as np\n",
    "import matplotlib.pyplot as plt\n",
    "from matplotlib import style\n",
    "style.use('dark_background')\n",
    "from torch.utils.data import DataLoader,TensorDataset\n",
    "from sklearn.model_selection import train_test_split"
   ]
  },
  {
   "cell_type": "markdown",
   "metadata": {
    "id": "6NYbJIYfprVq"
   },
   "source": [
    "# Check the availability of GPU"
   ]
  },
  {
   "cell_type": "code",
   "execution_count": 5,
   "metadata": {
    "colab": {
     "base_uri": "https://localhost:8080/"
    },
    "executionInfo": {
     "elapsed": 129,
     "status": "ok",
     "timestamp": 1691552811815,
     "user": {
      "displayName": "zeeshan ahmad",
      "userId": "09790783261567949831"
     },
     "user_tz": 240
    },
    "id": "t0DdlfSvvtkH",
    "outputId": "b53df724-17fc-427f-d5e7-ce0b8a2f2fdd"
   },
   "outputs": [
    {
     "data": {
      "text/plain": [
       "True"
      ]
     },
     "execution_count": 5,
     "metadata": {},
     "output_type": "execute_result"
    }
   ],
   "source": [
    "torch.cuda.is_available()"
   ]
  },
  {
   "cell_type": "markdown",
   "metadata": {
    "id": "-bzw30BOpyIG"
   },
   "source": [
    "# Use GPU as a device for Training and Testing"
   ]
  },
  {
   "cell_type": "code",
   "execution_count": 6,
   "metadata": {
    "colab": {
     "base_uri": "https://localhost:8080/"
    },
    "executionInfo": {
     "elapsed": 6,
     "status": "ok",
     "timestamp": 1691552813752,
     "user": {
      "displayName": "zeeshan ahmad",
      "userId": "09790783261567949831"
     },
     "user_tz": 240
    },
    "id": "6w1WSIfIvtkI",
    "outputId": "2067277c-2fea-4596-cff7-455205d0881d"
   },
   "outputs": [
    {
     "name": "stdout",
     "output_type": "stream",
     "text": [
      "cuda:0\n"
     ]
    }
   ],
   "source": [
    "device = torch.device('cuda:0' if torch.cuda.is_available() else 'cpu')\n",
    "print(device)"
   ]
  },
  {
   "cell_type": "markdown",
   "metadata": {
    "id": "r6fJt07Gp-n-"
   },
   "source": [
    "# Mount the drive and set the path"
   ]
  },
  {
   "cell_type": "code",
   "execution_count": 5,
   "metadata": {
    "colab": {
     "base_uri": "https://localhost:8080/"
    },
    "executionInfo": {
     "elapsed": 16637,
     "status": "ok",
     "timestamp": 1691552832697,
     "user": {
      "displayName": "zeeshan ahmad",
      "userId": "09790783261567949831"
     },
     "user_tz": 240
    },
    "id": "_EI4uSJ_v729",
    "outputId": "f7b23c5d-f349-453d-ed9a-89922f2481e9"
   },
   "outputs": [
    {
     "name": "stdout",
     "output_type": "stream",
     "text": [
      "Mounted at /content/drive\n"
     ]
    }
   ],
   "source": [
    "from google.colab import drive\n",
    "drive.mount('/content/drive')"
   ]
  },
  {
   "cell_type": "code",
   "execution_count": 6,
   "metadata": {
    "colab": {
     "base_uri": "https://localhost:8080/"
    },
    "executionInfo": {
     "elapsed": 177,
     "status": "ok",
     "timestamp": 1691552832868,
     "user": {
      "displayName": "zeeshan ahmad",
      "userId": "09790783261567949831"
     },
     "user_tz": 240
    },
    "id": "zyy7WWLKwHxy",
    "outputId": "1315089e-02c5-4ae3-9f9d-056cc38a35a4"
   },
   "outputs": [
    {
     "name": "stdout",
     "output_type": "stream",
     "text": [
      "/content/drive/MyDrive/Course Material/Supervised Machine Learning/Neural Networks for Classification\n"
     ]
    }
   ],
   "source": [
    "%cd /content/drive/MyDrive/Course Material/Supervised Machine Learning/Neural Networks for Classification"
   ]
  },
  {
   "cell_type": "markdown",
   "metadata": {
    "id": "20F1WUJqqM1X"
   },
   "source": [
    "# Import the dataset"
   ]
  },
  {
   "cell_type": "code",
   "execution_count": 7,
   "metadata": {
    "executionInfo": {
     "elapsed": 4495,
     "status": "ok",
     "timestamp": 1691552837359,
     "user": {
      "displayName": "zeeshan ahmad",
      "userId": "09790783261567949831"
     },
     "user_tz": 240
    },
    "id": "MU7rvmWuhjud"
   },
   "outputs": [],
   "source": [
    "import pandas as pd\n",
    "\n",
    "data = pd.read_csv('mnist_train.csv')"
   ]
  },
  {
   "cell_type": "code",
   "execution_count": 8,
   "metadata": {
    "colab": {
     "base_uri": "https://localhost:8080/",
     "height": 235
    },
    "executionInfo": {
     "elapsed": 168,
     "status": "ok",
     "timestamp": 1691552844714,
     "user": {
      "displayName": "zeeshan ahmad",
      "userId": "09790783261567949831"
     },
     "user_tz": 240
    },
    "id": "cluWgyFmqirX",
    "outputId": "674037ee-d649-4c66-d78c-3309cff0bf68"
   },
   "outputs": [
    {
     "data": {
      "text/html": [
       "<div>\n",
       "<style scoped>\n",
       "    .dataframe tbody tr th:only-of-type {\n",
       "        vertical-align: middle;\n",
       "    }\n",
       "\n",
       "    .dataframe tbody tr th {\n",
       "        vertical-align: top;\n",
       "    }\n",
       "\n",
       "    .dataframe thead th {\n",
       "        text-align: right;\n",
       "    }\n",
       "</style>\n",
       "<table border=\"1\" class=\"dataframe\">\n",
       "  <thead>\n",
       "    <tr style=\"text-align: right;\">\n",
       "      <th></th>\n",
       "      <th>label</th>\n",
       "      <th>1x1</th>\n",
       "      <th>1x2</th>\n",
       "      <th>1x3</th>\n",
       "      <th>1x4</th>\n",
       "      <th>1x5</th>\n",
       "      <th>1x6</th>\n",
       "      <th>1x7</th>\n",
       "      <th>1x8</th>\n",
       "      <th>1x9</th>\n",
       "      <th>...</th>\n",
       "      <th>28x19</th>\n",
       "      <th>28x20</th>\n",
       "      <th>28x21</th>\n",
       "      <th>28x22</th>\n",
       "      <th>28x23</th>\n",
       "      <th>28x24</th>\n",
       "      <th>28x25</th>\n",
       "      <th>28x26</th>\n",
       "      <th>28x27</th>\n",
       "      <th>28x28</th>\n",
       "    </tr>\n",
       "  </thead>\n",
       "  <tbody>\n",
       "    <tr>\n",
       "      <th>0</th>\n",
       "      <td>5</td>\n",
       "      <td>0</td>\n",
       "      <td>0</td>\n",
       "      <td>0</td>\n",
       "      <td>0</td>\n",
       "      <td>0</td>\n",
       "      <td>0</td>\n",
       "      <td>0</td>\n",
       "      <td>0</td>\n",
       "      <td>0</td>\n",
       "      <td>...</td>\n",
       "      <td>0</td>\n",
       "      <td>0</td>\n",
       "      <td>0</td>\n",
       "      <td>0</td>\n",
       "      <td>0</td>\n",
       "      <td>0</td>\n",
       "      <td>0</td>\n",
       "      <td>0</td>\n",
       "      <td>0</td>\n",
       "      <td>0</td>\n",
       "    </tr>\n",
       "    <tr>\n",
       "      <th>1</th>\n",
       "      <td>0</td>\n",
       "      <td>0</td>\n",
       "      <td>0</td>\n",
       "      <td>0</td>\n",
       "      <td>0</td>\n",
       "      <td>0</td>\n",
       "      <td>0</td>\n",
       "      <td>0</td>\n",
       "      <td>0</td>\n",
       "      <td>0</td>\n",
       "      <td>...</td>\n",
       "      <td>0</td>\n",
       "      <td>0</td>\n",
       "      <td>0</td>\n",
       "      <td>0</td>\n",
       "      <td>0</td>\n",
       "      <td>0</td>\n",
       "      <td>0</td>\n",
       "      <td>0</td>\n",
       "      <td>0</td>\n",
       "      <td>0</td>\n",
       "    </tr>\n",
       "    <tr>\n",
       "      <th>2</th>\n",
       "      <td>4</td>\n",
       "      <td>0</td>\n",
       "      <td>0</td>\n",
       "      <td>0</td>\n",
       "      <td>0</td>\n",
       "      <td>0</td>\n",
       "      <td>0</td>\n",
       "      <td>0</td>\n",
       "      <td>0</td>\n",
       "      <td>0</td>\n",
       "      <td>...</td>\n",
       "      <td>0</td>\n",
       "      <td>0</td>\n",
       "      <td>0</td>\n",
       "      <td>0</td>\n",
       "      <td>0</td>\n",
       "      <td>0</td>\n",
       "      <td>0</td>\n",
       "      <td>0</td>\n",
       "      <td>0</td>\n",
       "      <td>0</td>\n",
       "    </tr>\n",
       "    <tr>\n",
       "      <th>3</th>\n",
       "      <td>1</td>\n",
       "      <td>0</td>\n",
       "      <td>0</td>\n",
       "      <td>0</td>\n",
       "      <td>0</td>\n",
       "      <td>0</td>\n",
       "      <td>0</td>\n",
       "      <td>0</td>\n",
       "      <td>0</td>\n",
       "      <td>0</td>\n",
       "      <td>...</td>\n",
       "      <td>0</td>\n",
       "      <td>0</td>\n",
       "      <td>0</td>\n",
       "      <td>0</td>\n",
       "      <td>0</td>\n",
       "      <td>0</td>\n",
       "      <td>0</td>\n",
       "      <td>0</td>\n",
       "      <td>0</td>\n",
       "      <td>0</td>\n",
       "    </tr>\n",
       "    <tr>\n",
       "      <th>4</th>\n",
       "      <td>9</td>\n",
       "      <td>0</td>\n",
       "      <td>0</td>\n",
       "      <td>0</td>\n",
       "      <td>0</td>\n",
       "      <td>0</td>\n",
       "      <td>0</td>\n",
       "      <td>0</td>\n",
       "      <td>0</td>\n",
       "      <td>0</td>\n",
       "      <td>...</td>\n",
       "      <td>0</td>\n",
       "      <td>0</td>\n",
       "      <td>0</td>\n",
       "      <td>0</td>\n",
       "      <td>0</td>\n",
       "      <td>0</td>\n",
       "      <td>0</td>\n",
       "      <td>0</td>\n",
       "      <td>0</td>\n",
       "      <td>0</td>\n",
       "    </tr>\n",
       "  </tbody>\n",
       "</table>\n",
       "<p>5 rows × 785 columns</p>\n",
       "</div>"
      ],
      "text/plain": [
       "   label  1x1  1x2  1x3  1x4  1x5  1x6  1x7  1x8  1x9  ...  28x19  28x20  \\\n",
       "0      5    0    0    0    0    0    0    0    0    0  ...      0      0   \n",
       "1      0    0    0    0    0    0    0    0    0    0  ...      0      0   \n",
       "2      4    0    0    0    0    0    0    0    0    0  ...      0      0   \n",
       "3      1    0    0    0    0    0    0    0    0    0  ...      0      0   \n",
       "4      9    0    0    0    0    0    0    0    0    0  ...      0      0   \n",
       "\n",
       "   28x21  28x22  28x23  28x24  28x25  28x26  28x27  28x28  \n",
       "0      0      0      0      0      0      0      0      0  \n",
       "1      0      0      0      0      0      0      0      0  \n",
       "2      0      0      0      0      0      0      0      0  \n",
       "3      0      0      0      0      0      0      0      0  \n",
       "4      0      0      0      0      0      0      0      0  \n",
       "\n",
       "[5 rows x 785 columns]"
      ]
     },
     "execution_count": 8,
     "metadata": {},
     "output_type": "execute_result"
    }
   ],
   "source": [
    "data.head()"
   ]
  },
  {
   "cell_type": "code",
   "execution_count": 9,
   "metadata": {
    "colab": {
     "base_uri": "https://localhost:8080/"
    },
    "executionInfo": {
     "elapsed": 107,
     "status": "ok",
     "timestamp": 1691552848264,
     "user": {
      "displayName": "zeeshan ahmad",
      "userId": "09790783261567949831"
     },
     "user_tz": 240
    },
    "id": "Vrbk8wCDrBCH",
    "outputId": "3e135ec8-0479-4698-f188-c2ab956dd385"
   },
   "outputs": [
    {
     "data": {
      "text/plain": [
       "(60000, 785)"
      ]
     },
     "execution_count": 9,
     "metadata": {},
     "output_type": "execute_result"
    }
   ],
   "source": [
    "data.shape"
   ]
  },
  {
   "cell_type": "markdown",
   "metadata": {
    "id": "0g37qRcJqv0Y"
   },
   "source": [
    "# Transforming the data into Numpy array and Extracting only 10000 samples"
   ]
  },
  {
   "cell_type": "code",
   "execution_count": 10,
   "metadata": {
    "executionInfo": {
     "elapsed": 306,
     "status": "ok",
     "timestamp": 1691552849601,
     "user": {
      "displayName": "zeeshan ahmad",
      "userId": "09790783261567949831"
     },
     "user_tz": 240
    },
    "id": "afIaIxgHqZwn"
   },
   "outputs": [],
   "source": [
    "data = np.array(data)\n",
    "data = data[0:10000,:] # Extracting first 10000 samples"
   ]
  },
  {
   "cell_type": "markdown",
   "metadata": {
    "id": "wF4wtO86rJv_"
   },
   "source": [
    "# Extracting Features and Labels"
   ]
  },
  {
   "cell_type": "code",
   "execution_count": 11,
   "metadata": {
    "executionInfo": {
     "elapsed": 142,
     "status": "ok",
     "timestamp": 1691552850867,
     "user": {
      "displayName": "zeeshan ahmad",
      "userId": "09790783261567949831"
     },
     "user_tz": 240
    },
    "id": "r04byWGQvtkJ"
   },
   "outputs": [],
   "source": [
    "X = data[:,1:]\n",
    "y = data[:,0]"
   ]
  },
  {
   "cell_type": "code",
   "execution_count": 12,
   "metadata": {
    "colab": {
     "base_uri": "https://localhost:8080/"
    },
    "executionInfo": {
     "elapsed": 153,
     "status": "ok",
     "timestamp": 1691552851587,
     "user": {
      "displayName": "zeeshan ahmad",
      "userId": "09790783261567949831"
     },
     "user_tz": 240
    },
    "id": "Gbd6MOWMvtkK",
    "outputId": "6f6c906c-ba02-48c1-e299-4fb814d8002e"
   },
   "outputs": [
    {
     "data": {
      "text/plain": [
       "(10000, 784)"
      ]
     },
     "execution_count": 12,
     "metadata": {},
     "output_type": "execute_result"
    }
   ],
   "source": [
    "X.shape"
   ]
  },
  {
   "cell_type": "markdown",
   "metadata": {
    "id": "OhLQ2YSvpiGj"
   },
   "source": [
    "# Four Important steps to use data in Pytorch"
   ]
  },
  {
   "cell_type": "code",
   "execution_count": 13,
   "metadata": {
    "executionInfo": {
     "elapsed": 727,
     "status": "ok",
     "timestamp": 1691552857459,
     "user": {
      "displayName": "zeeshan ahmad",
      "userId": "09790783261567949831"
     },
     "user_tz": 240
    },
    "id": "Y_tZ1ymVp0Sf"
   },
   "outputs": [],
   "source": [
    "# Step 1: Convert to pytorch tensor\n",
    "X_t   = torch.tensor( X, dtype = torch.float32 )\n",
    "y_t = torch.tensor( y, dtype = torch.long)\n",
    "\n",
    "# Step 2: Perform Train Test Split and Normalize the data\n",
    "train_data, test_data, train_labels, test_labels = train_test_split(X_t, y_t, test_size = 0.1)\n",
    "\n",
    "train_data = train_data/torch.max(train_data)\n",
    "test_data  = test_data/torch.max(test_data)\n",
    "\n",
    "\n",
    "# Step 3: Convert into PyTorch Datasets\n",
    "X_train = TensorDataset(train_data,train_labels)\n",
    "X_test  = TensorDataset(test_data,test_labels)\n",
    "\n",
    "\n",
    "# Step 4: Move the data into dataloader objects\n",
    "batchsize    = 32\n",
    "train_loader = DataLoader(X_train, batch_size = batchsize, shuffle = True, drop_last=True)\n",
    "test_loader  = DataLoader(X_test, batch_size = X_test.tensors[0].shape[0])"
   ]
  },
  {
   "cell_type": "code",
   "execution_count": 14,
   "metadata": {
    "colab": {
     "base_uri": "https://localhost:8080/"
    },
    "executionInfo": {
     "elapsed": 149,
     "status": "ok",
     "timestamp": 1691552860344,
     "user": {
      "displayName": "zeeshan ahmad",
      "userId": "09790783261567949831"
     },
     "user_tz": 240
    },
    "id": "nqONyyZ4nRT1",
    "outputId": "ebf41dc1-09b5-4824-faba-9b4bda5c4613"
   },
   "outputs": [
    {
     "data": {
      "text/plain": [
       "281.25"
      ]
     },
     "execution_count": 14,
     "metadata": {},
     "output_type": "execute_result"
    }
   ],
   "source": [
    "9000/32"
   ]
  },
  {
   "cell_type": "code",
   "execution_count": 15,
   "metadata": {
    "colab": {
     "base_uri": "https://localhost:8080/"
    },
    "executionInfo": {
     "elapsed": 127,
     "status": "ok",
     "timestamp": 1691552861974,
     "user": {
      "displayName": "zeeshan ahmad",
      "userId": "09790783261567949831"
     },
     "user_tz": 240
    },
    "id": "TNIODTRnniQb",
    "outputId": "88d88bdf-bade-4d9a-917d-e16860413d45"
   },
   "outputs": [
    {
     "data": {
      "text/plain": [
       "8992"
      ]
     },
     "execution_count": 15,
     "metadata": {},
     "output_type": "execute_result"
    }
   ],
   "source": [
    "281*32"
   ]
  },
  {
   "cell_type": "code",
   "execution_count": 16,
   "metadata": {
    "colab": {
     "base_uri": "https://localhost:8080/"
    },
    "executionInfo": {
     "elapsed": 141,
     "status": "ok",
     "timestamp": 1691552863560,
     "user": {
      "displayName": "zeeshan ahmad",
      "userId": "09790783261567949831"
     },
     "user_tz": 240
    },
    "id": "GaqJwiqMvtkL",
    "outputId": "7e532f9e-caad-4558-ce4f-d23e96a59078"
   },
   "outputs": [
    {
     "data": {
      "text/plain": [
       "1000"
      ]
     },
     "execution_count": 16,
     "metadata": {},
     "output_type": "execute_result"
    }
   ],
   "source": [
    "X_test.tensors[0].shape[0]"
   ]
  },
  {
   "cell_type": "code",
   "execution_count": 17,
   "metadata": {
    "colab": {
     "base_uri": "https://localhost:8080/"
    },
    "executionInfo": {
     "elapsed": 127,
     "status": "ok",
     "timestamp": 1691552866030,
     "user": {
      "displayName": "zeeshan ahmad",
      "userId": "09790783261567949831"
     },
     "user_tz": 240
    },
    "id": "oq8lz14KvtkM",
    "outputId": "ff21ad60-20fd-4cc7-dc8a-23011b6be756"
   },
   "outputs": [
    {
     "data": {
      "text/plain": [
       "torch.Size([32, 784])"
      ]
     },
     "execution_count": 17,
     "metadata": {},
     "output_type": "execute_result"
    }
   ],
   "source": [
    "for X,y in train_loader:\n",
    "    break\n",
    "X.shape"
   ]
  },
  {
   "cell_type": "markdown",
   "metadata": {
    "id": "-gB88VN_vtkN"
   },
   "source": [
    "# Visualizing Few Samples"
   ]
  },
  {
   "cell_type": "code",
   "execution_count": 18,
   "metadata": {
    "colab": {
     "base_uri": "https://localhost:8080/",
     "height": 161
    },
    "executionInfo": {
     "elapsed": 1140,
     "status": "ok",
     "timestamp": 1691552885569,
     "user": {
      "displayName": "zeeshan ahmad",
      "userId": "09790783261567949831"
     },
     "user_tz": 240
    },
    "id": "LnfJCPCOvtkN",
    "outputId": "3567c8c8-3bba-487b-ed03-88626e820613"
   },
   "outputs": [
    {
     "data": {
      "image/png": "[encoded data removed]",
      "text/plain": [
       "<Figure size 720x144 with 12 Axes>"
      ]
     },
     "metadata": {},
     "output_type": "display_data"
    }
   ],
   "source": [
    "fig,axs = plt.subplots(1,12,figsize=(10,2))\n",
    "\n",
    "for i in range(12):\n",
    "  axs[i].imshow(X_t[i,:].view(28,28).detach() ,cmap='gray')\n",
    "  axs[i].set_xticks([]), axs[i].set_yticks([])\n",
    "\n",
    "plt.suptitle('Few Data Images')\n",
    "plt.show()"
   ]
  },
  {
   "cell_type": "markdown",
   "metadata": {
    "id": "OK8Opkhgp0bO"
   },
   "source": [
    "# Create the Neural Network model"
   ]
  },
  {
   "cell_type": "code",
   "execution_count": 19,
   "metadata": {
    "executionInfo": {
     "elapsed": 213,
     "status": "ok",
     "timestamp": 1691552888195,
     "user": {
      "displayName": "zeeshan ahmad",
      "userId": "09790783261567949831"
     },
     "user_tz": 240
    },
    "id": "wOX5KZYNuFUP"
   },
   "outputs": [],
   "source": [
    "class NN_Classifier(nn.Module):\n",
    "  def __init__(self):\n",
    "    super().__init__()\n",
    "\n",
    "    self.input = nn.Linear(784,64)\n",
    "    self.fc1 = nn.Linear(64,32)\n",
    "    self.fc2 = nn.Linear(32,32)\n",
    "\n",
    "    # Classification OR  output layer\n",
    "\n",
    "    self.output = nn.Linear(32,10)\n",
    "\n",
    "  # Forward pass\n",
    "\n",
    "  def forward(self,x):\n",
    "\n",
    "    # Pass the data through the input layer\n",
    "\n",
    "    x = self.input(x)\n",
    "    x = self.fc1(x)\n",
    "    x = F.relu(x)\n",
    "    x = self.fc2(x)\n",
    "    x = F.relu(x)\n",
    "\n",
    "    # output layer\n",
    "\n",
    "    x = self.output(x)\n",
    "    # X = torch.sigmoid\n",
    "    return x"
   ]
  },
  {
   "cell_type": "code",
   "execution_count": 20,
   "metadata": {
    "executionInfo": {
     "elapsed": 118,
     "status": "ok",
     "timestamp": 1691552891047,
     "user": {
      "displayName": "zeeshan ahmad",
      "userId": "09790783261567949831"
     },
     "user_tz": 240
    },
    "id": "yclng8PYt9p2"
   },
   "outputs": [],
   "source": [
    "model = NN_Classifier()"
   ]
  },
  {
   "cell_type": "markdown",
   "metadata": {
    "id": "dvfGQIRGp0ht"
   },
   "source": [
    "# Train and Test the model"
   ]
  },
  {
   "cell_type": "code",
   "execution_count": 21,
   "metadata": {
    "colab": {
     "base_uri": "https://localhost:8080/"
    },
    "executionInfo": {
     "elapsed": 57483,
     "status": "ok",
     "timestamp": 1691554058171,
     "user": {
      "displayName": "zeeshan ahmad",
      "userId": "09790783261567949831"
     },
     "user_tz": 240
    },
    "id": "IblJo1NCp0kl",
    "outputId": "f4af09a6-da22-44a4-e93f-276e7ad01d57"
   },
   "outputs": [
    {
     "name": "stdout",
     "output_type": "stream",
     "text": [
      " epochs : 0  loss :  0.90\n",
      " epochs : 10  loss :  0.08\n",
      " epochs : 20  loss :  0.01\n",
      " epochs : 30  loss :  0.01\n",
      " epochs : 40  loss :  0.00\n",
      " epochs : 50  loss :  0.00\n",
      " epochs : 60  loss :  0.00\n",
      " epochs : 70  loss :  0.00\n",
      " epochs : 80  loss :  0.00\n",
      " epochs : 90  loss :  0.00\n",
      " epochs : 100  loss :  0.00\n"
     ]
    }
   ],
   "source": [
    "epochs = 101\n",
    "\n",
    "lossfunc = nn.CrossEntropyLoss()\n",
    "\n",
    "optimizer = torch.optim.SGD(model.parameters(), momentum = 0.9, lr = 0.01)\n",
    "\n",
    "model.to(device) # placing a model on GPU\n",
    "\n",
    "# Initialize losses and Accuracies\n",
    "\n",
    "losses    = torch.zeros(epochs)\n",
    "trainAcc  = []\n",
    "testAcc   = []\n",
    "\n",
    "\n",
    "# For Loop for epochs\n",
    "\n",
    "for epoch in range(epochs):\n",
    " model.train()\n",
    "\n",
    " # Loop for training in batches\n",
    "\n",
    " batchAcc  = []\n",
    " batchLoss = []\n",
    "\n",
    " for X,y in train_loader:\n",
    "\n",
    "  X = X.to(device) # Placing features on device\n",
    "  y = y.to(device) # placing labels on device\n",
    "\n",
    "  ypred = model(X)\n",
    "  loss = lossfunc(ypred,y)\n",
    "\n",
    "# Backpropagation\n",
    "\n",
    "  optimizer.zero_grad()\n",
    "  loss.backward()\n",
    "  optimizer.step()\n",
    "\n",
    "  # Append batchloss\n",
    "\n",
    "  batchLoss.append(loss.item())\n",
    "\n",
    "  ypred = ypred.cpu() # Back to cpu\n",
    "  y = y.cpu()\n",
    "\n",
    "  # compute batch accuracy\n",
    "\n",
    "  acc = 100 * torch.mean((torch.argmax(ypred, dim=1) == y).float())\n",
    "  batchAcc.append(acc)\n",
    "\n",
    "# Batch loop concluded\n",
    "\n",
    "# Average training accuracy (Outside the batchloop)\n",
    "\n",
    " trainAcc.append(np.mean(batchAcc))\n",
    "\n",
    "# Losses through epochs\n",
    "\n",
    " losses[epoch] = np.mean(batchLoss)\n",
    "\n",
    "# TESTING the model\n",
    "\n",
    " model.eval()\n",
    " X,y = next(iter(test_loader))\n",
    " X = X.to(device)\n",
    " y = y.to(device)\n",
    "\n",
    " with torch.no_grad(): #This step  Deactivating autogradient\n",
    "  ypred = model(X)\n",
    "  ypred = ypred.cpu()\n",
    "  y = y.cpu()\n",
    "\n",
    " # Appending test accuracy\n",
    "\n",
    "  testAcc.append(100 * torch.mean((torch.argmax(ypred,dim=1)==y).float()))\n",
    "  if (epoch % 10) == 0:\n",
    "\n",
    "        print(f' epochs : {epoch}  loss : {loss : 2.2f}')\n",
    "\n"
   ]
  },
  {
   "cell_type": "markdown",
   "metadata": {
    "id": "9O5qmp6AvtkQ"
   },
   "source": [
    "# Visualizing the Loss and Accuracies"
   ]
  },
  {
   "cell_type": "code",
   "execution_count": 22,
   "metadata": {
    "colab": {
     "base_uri": "https://localhost:8080/",
     "height": 454
    },
    "executionInfo": {
     "elapsed": 671,
     "status": "ok",
     "timestamp": 1691554080102,
     "user": {
      "displayName": "zeeshan ahmad",
      "userId": "09790783261567949831"
     },
     "user_tz": 240
    },
    "id": "gHzKOZjnp0qn",
    "outputId": "9f92372d-dc73-41ad-b081-d3ac54274a04"
   },
   "outputs": [
    {
     "data": {
      "image/png": "[encoded data removed]",
      "text/plain": [
       "<Figure size 1296x432 with 2 Axes>"
      ]
     },
     "metadata": {},
     "output_type": "display_data"
    }
   ],
   "source": [
    "fig,ax = plt.subplots(1,2,figsize=(18,6))\n",
    "\n",
    "ax[0].plot(losses, 'g', lw = 3, label = 'Train')\n",
    "ax[0].set_xlabel('Epochs', fontsize = 15)\n",
    "ax[0].set_ylabel('Loss', fontsize = 15)\n",
    "ax[0].legend(fontsize = 15)\n",
    "ax[0].set_title('Training Loss', fontsize = 15)\n",
    "\n",
    "ax[1].plot(trainAcc, label ='Train', lw = 3)\n",
    "ax[1].plot(testAcc, label ='Test', lw = 3)\n",
    "ax[1].set_xlabel('Epochs', fontsize = 15)\n",
    "ax[1].set_ylabel('Accuracy (%)', fontsize = 15)\n",
    "ax[1].set_ylim([10,110])\n",
    "ax[1].set_title(f'Train Accuracy: {trainAcc[-1]:.2f}% \\n Test Accuracy: {testAcc[-1]:.2f}%', fontsize = 15)\n",
    "ax[1].legend(fontsize = 15)\n",
    "\n",
    "plt.show()"
   ]
  },
  {
   "cell_type": "code",
   "execution_count": 27,
   "metadata": {
    "id": "P2UKMbYJLh0B"
   },
   "outputs": [],
   "source": [
    "ypred = np.argmax(ypred, axis = 1)"
   ]
  },
  {
   "cell_type": "markdown",
   "metadata": {},
   "source": [
    "# Create Confusion Matrix"
   ]
  },
  {
   "cell_type": "code",
   "execution_count": 23,
   "metadata": {
    "id": "EJti1spbLh45"
   },
   "outputs": [],
   "source": [
    "from sklearn.metrics import confusion_matrix,f1_score,precision_score, recall_score, accuracy_score, ConfusionMatrixDisplay"
   ]
  },
  {
   "cell_type": "code",
   "execution_count": 24,
   "metadata": {
    "id": "SN9orYuXLh8j"
   },
   "outputs": [],
   "source": [
    "font = {\n",
    "    'weight' : 'bold',\n",
    "    'size'   : 15}\n",
    "plt.rc('font', **font)"
   ]
  },
  {
   "cell_type": "code",
   "execution_count": 28,
   "metadata": {
    "id": "mT5211UPLiJ5"
   },
   "outputs": [
    {
     "data": {
      "image/png": "[encoded data removed]",
      "text/plain": [
       "<Figure size 576x576 with 2 Axes>"
      ]
     },
     "metadata": {},
     "output_type": "display_data"
    }
   ],
   "source": [
    "cm = confusion_matrix(ypred, y)\n",
    "disp = ConfusionMatrixDisplay(confusion_matrix=cm, display_labels= [0,1,2,3,4,5,6,7,8,9])\n",
    "disp.plot(xticks_rotation=45)\n",
    "fig = disp.ax_.get_figure() \n",
    "fig.set_figwidth(8)\n",
    "fig.set_figheight(8) \n",
    "plt.show()"
   ]
  },
  {
   "cell_type": "markdown",
   "metadata": {},
   "source": [
    "# Print Classification Report"
   ]
  },
  {
   "cell_type": "code",
   "execution_count": 30,
   "metadata": {
    "id": "iEM51XwPLiaZ"
   },
   "outputs": [
    {
     "name": "stdout",
     "output_type": "stream",
     "text": [
      "              precision    recall  f1-score   support\n",
      "\n",
      "           0       0.97      0.97      0.97        89\n",
      "           1       0.96      0.97      0.97       109\n",
      "           2       0.98      0.97      0.98       110\n",
      "           3       0.95      0.95      0.95       111\n",
      "           4       0.93      0.95      0.94       109\n",
      "           5       0.92      0.92      0.92        88\n",
      "           6       0.95      0.99      0.97        90\n",
      "           7       0.96      0.95      0.96       103\n",
      "           8       0.95      0.87      0.91        95\n",
      "           9       0.92      0.95      0.93        96\n",
      "\n",
      "    accuracy                           0.95      1000\n",
      "   macro avg       0.95      0.95      0.95      1000\n",
      "weighted avg       0.95      0.95      0.95      1000\n",
      "\n"
     ]
    }
   ],
   "source": [
    "from sklearn.metrics import classification_report\n",
    "print(classification_report(y, ypred))"
   ]
  },
  {
   "cell_type": "markdown",
   "metadata": {
    "id": "ePIediOk4sNH"
   },
   "source": [
    "# Save the Trained Model"
   ]
  },
  {
   "cell_type": "code",
   "execution_count": 23,
   "metadata": {
    "executionInfo": {
     "elapsed": 387,
     "status": "ok",
     "timestamp": 1691554528383,
     "user": {
      "displayName": "zeeshan ahmad",
      "userId": "09790783261567949831"
     },
     "user_tz": 240
    },
    "id": "9SnUUHPm7xQE"
   },
   "outputs": [],
   "source": [
    "# Save the model. The following line of code is saving the model  with its current state (weights and biases) in the\n",
    "# dictionary, thats why the command state_dict(), with the name \"My_TrainedModel.pt\"\n",
    "\n",
    "torch.save(model.state_dict(),'My_TrainedModel.pt')"
   ]
  },
  {
   "cell_type": "markdown",
   "metadata": {
    "id": "kqK2O_AC7JcX"
   },
   "source": [
    "#Load the Save Model"
   ]
  },
  {
   "cell_type": "code",
   "execution_count": 24,
   "metadata": {
    "colab": {
     "base_uri": "https://localhost:8080/"
    },
    "executionInfo": {
     "elapsed": 139,
     "status": "ok",
     "timestamp": 1691554530042,
     "user": {
      "displayName": "zeeshan ahmad",
      "userId": "09790783261567949831"
     },
     "user_tz": 240
    },
    "id": "U42vxa_Z7NrH",
    "outputId": "2e880f7b-30b0-4a44-ee38-440475698de0"
   },
   "outputs": [
    {
     "data": {
      "text/plain": [
       "<All keys matched successfully>"
      ]
     },
     "execution_count": 24,
     "metadata": {},
     "output_type": "execute_result"
    }
   ],
   "source": [
    "model.load_state_dict(torch.load('My_TrainedModel.pt'))"
   ]
  },
  {
   "cell_type": "markdown",
   "metadata": {
    "id": "PQXOJV0k8Dkn"
   },
   "source": [
    "# Test the Loaded Model"
   ]
  },
  {
   "cell_type": "code",
   "execution_count": 25,
   "metadata": {
    "executionInfo": {
     "elapsed": 3,
     "status": "ok",
     "timestamp": 1691554532411,
     "user": {
      "displayName": "zeeshan ahmad",
      "userId": "09790783261567949831"
     },
     "user_tz": 240
    },
    "id": "bY0Gn-Ba7kU3"
   },
   "outputs": [],
   "source": [
    "model.to(device)\n",
    "X,y = next(iter(test_loader))\n",
    "X = X.to(device)\n",
    "y = y.to(device)\n",
    "\n",
    "with torch.no_grad():\n",
    "  ypred = model(X)\n",
    "  ypred = ypred.cpu()\n",
    "  y = y.cpu()"
   ]
  },
  {
   "cell_type": "code",
   "execution_count": 26,
   "metadata": {
    "colab": {
     "base_uri": "https://localhost:8080/"
    },
    "executionInfo": {
     "elapsed": 147,
     "status": "ok",
     "timestamp": 1691554534030,
     "user": {
      "displayName": "zeeshan ahmad",
      "userId": "09790783261567949831"
     },
     "user_tz": 240
    },
    "id": "qIqUwXYM71_G",
    "outputId": "fc67a619-869b-4bf6-d19c-4b11e2f372d8"
   },
   "outputs": [
    {
     "data": {
      "text/plain": [
       "tensor(95.8000)"
      ]
     },
     "execution_count": 26,
     "metadata": {},
     "output_type": "execute_result"
    }
   ],
   "source": [
    "Acc = 100 * torch.mean((torch.argmax(ypred,dim=1)==y).float())\n",
    "Acc"
   ]
  },
  {
   "cell_type": "markdown",
   "metadata": {
    "id": "QD3PdTvM7_MO"
   },
   "source": [
    "# OR"
   ]
  },
  {
   "cell_type": "markdown",
   "metadata": {
    "id": "gy1YfZrO6pEH"
   },
   "source": [
    "# Create the New Instance of the model"
   ]
  },
  {
   "cell_type": "code",
   "execution_count": 27,
   "metadata": {
    "executionInfo": {
     "elapsed": 131,
     "status": "ok",
     "timestamp": 1691554536089,
     "user": {
      "displayName": "zeeshan ahmad",
      "userId": "09790783261567949831"
     },
     "user_tz": 240
    },
    "id": "qhIF_myB5Cvf"
   },
   "outputs": [],
   "source": [
    "NewModel = NN_Classifier()"
   ]
  },
  {
   "cell_type": "markdown",
   "metadata": {
    "id": "rAPRLde-6yBe"
   },
   "source": [
    "# Transfering Weights of the Trained model to new model"
   ]
  },
  {
   "cell_type": "code",
   "execution_count": 28,
   "metadata": {
    "colab": {
     "base_uri": "https://localhost:8080/"
    },
    "executionInfo": {
     "elapsed": 114,
     "status": "ok",
     "timestamp": 1691554537745,
     "user": {
      "displayName": "zeeshan ahmad",
      "userId": "09790783261567949831"
     },
     "user_tz": 240
    },
    "id": "piLtRW0p5BnG",
    "outputId": "a11b847b-1eec-4c90-ec15-2707d5ffc579"
   },
   "outputs": [
    {
     "data": {
      "text/plain": [
       "<All keys matched successfully>"
      ]
     },
     "execution_count": 28,
     "metadata": {},
     "output_type": "execute_result"
    }
   ],
   "source": [
    "NewModel.load_state_dict(torch.load('My_TrainedModel.pt'))"
   ]
  },
  {
   "cell_type": "markdown",
   "metadata": {
    "id": "esKTswcl69TH"
   },
   "source": [
    "# Testing the new model"
   ]
  },
  {
   "cell_type": "code",
   "execution_count": 29,
   "metadata": {
    "executionInfo": {
     "elapsed": 149,
     "status": "ok",
     "timestamp": 1691554539690,
     "user": {
      "displayName": "zeeshan ahmad",
      "userId": "09790783261567949831"
     },
     "user_tz": 240
    },
    "id": "_A34VSVc5d4P"
   },
   "outputs": [],
   "source": [
    " NewModel.to(device)\n",
    " X,y = next(iter(test_loader))\n",
    " X = X.to(device)\n",
    " y = y.to(device)\n",
    "\n",
    " with torch.no_grad():\n",
    "  ypred_New = NewModel(X)\n",
    "  ypred_New = ypred_New.cpu()\n",
    "  y = y.cpu()\n"
   ]
  },
  {
   "cell_type": "code",
   "execution_count": 30,
   "metadata": {
    "colab": {
     "base_uri": "https://localhost:8080/"
    },
    "executionInfo": {
     "elapsed": 142,
     "status": "ok",
     "timestamp": 1691554541260,
     "user": {
      "displayName": "zeeshan ahmad",
      "userId": "09790783261567949831"
     },
     "user_tz": 240
    },
    "id": "hubN-wad5sY_",
    "outputId": "376bb32f-a0d0-4505-d37a-82fae8031157"
   },
   "outputs": [
    {
     "data": {
      "text/plain": [
       "tensor(95.8000)"
      ]
     },
     "execution_count": 30,
     "metadata": {},
     "output_type": "execute_result"
    }
   ],
   "source": [
    "New_Acc = 100 * torch.mean((torch.argmax(ypred_New,dim=1)==y).float())\n",
    "New_Acc"
   ]
  }
 ],
 "metadata": {
  "accelerator": "GPU",
  "colab": {
   "gpuType": "T4",
   "provenance": [
    {
     "file_id": "1FcEBC0NAESIlHQkv6_85R-XDUKGE8XbM",
     "timestamp": 1617815797362
    },
    {
     "file_id": "1qKgZ8kVcqNgwtBzHbWq5yJH_HqI6DxWW",
     "timestamp": 1617803880910
    },
    {
     "file_id": "15cpyHkJ435B4MqbyGjAH1poN4nCy_DE4",
     "timestamp": 1617737766196
    },
    {
     "file_id": "1OLuWuaFu0hcFgkQ2hh5BqbRuqUZD7XcQ",
     "timestamp": 1617734878578
    },
    {
     "file_id": "1XvzVGJPTJifVh8OpZVB7ykLxyUqYwQ1j",
     "timestamp": 1617196833019
    },
    {
     "file_id": "1bv1_y32e3KEExFKKlPfC3rpw1JxmBr8H",
     "timestamp": 1617124341706
    },
    {
     "file_id": "1GMq8u7KyHB2AE7Teyls9gK1T01OduQSn",
     "timestamp": 1616697516760
    },
    {
     "file_id": "1Ui3kyHim-e0XLgDs2mkBxVlYg7TKYtcg",
     "timestamp": 1616615469755
    },
    {
     "file_id": "1YpHocGI4rApOxIBb1ZghCU5L-hFnv4CK",
     "timestamp": 1616608248670
    }
   ]
  },
  "kernelspec": {
   "display_name": "Python 3 (ipykernel)",
   "language": "python",
   "name": "python3"
  },
  "language_info": {
   "codemirror_mode": {
    "name": "ipython",
    "version": 3
   },
   "file_extension": ".py",
   "mimetype": "text/x-python",
   "name": "python",
   "nbconvert_exporter": "python",
   "pygments_lexer": "ipython3",
   "version": "3.9.7"
  }
 },
 "nbformat": 4,
 "nbformat_minor": 1
}
